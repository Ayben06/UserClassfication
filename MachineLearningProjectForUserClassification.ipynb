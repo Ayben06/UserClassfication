{
  "cells": [
    {
      "cell_type": "markdown",
      "metadata": {
        "id": "view-in-github",
        "colab_type": "text"
      },
      "source": [
        "<a href=\"https://colab.research.google.com/github/Ayben06/UserClassfication/blob/main/MachineLearningProjectForUserClassification.ipynb\" target=\"_parent\"><img src=\"https://colab.research.google.com/assets/colab-badge.svg\" alt=\"Open In Colab\"/></a>"
      ]
    },
    {
      "cell_type": "markdown",
      "id": "968f6584",
      "metadata": {
        "id": "968f6584"
      },
      "source": [
        "# Importing the relevant libraries"
      ]
    },
    {
      "cell_type": "code",
      "execution_count": null,
      "id": "9316a818",
      "metadata": {
        "id": "9316a818"
      },
      "outputs": [],
      "source": []
    },
    {
      "cell_type": "markdown",
      "id": "df416b8a",
      "metadata": {
        "id": "df416b8a"
      },
      "source": [
        "# Data Preprocessing"
      ]
    },
    {
      "cell_type": "markdown",
      "id": "f434aead",
      "metadata": {
        "id": "f434aead"
      },
      "source": [
        "### Importing the Database"
      ]
    },
    {
      "cell_type": "code",
      "execution_count": null,
      "id": "2c620a5a",
      "metadata": {
        "id": "2c620a5a"
      },
      "outputs": [],
      "source": []
    },
    {
      "cell_type": "markdown",
      "id": "0e7ab2c7",
      "metadata": {
        "id": "0e7ab2c7"
      },
      "source": [
        "### Removing Outliers"
      ]
    },
    {
      "cell_type": "code",
      "execution_count": null,
      "id": "7927c4b1",
      "metadata": {
        "id": "7927c4b1"
      },
      "outputs": [],
      "source": []
    },
    {
      "cell_type": "markdown",
      "id": "5b9cc4a7",
      "metadata": {
        "id": "5b9cc4a7"
      },
      "source": [
        "### Checking for Multicollinearity"
      ]
    },
    {
      "cell_type": "code",
      "execution_count": null,
      "id": "3bc1e88c",
      "metadata": {
        "id": "3bc1e88c"
      },
      "outputs": [],
      "source": []
    },
    {
      "cell_type": "markdown",
      "id": "39f1e168",
      "metadata": {
        "id": "39f1e168"
      },
      "source": [
        "### Dealing with NaN Values"
      ]
    },
    {
      "cell_type": "code",
      "execution_count": null,
      "id": "b21f9c2a",
      "metadata": {
        "id": "b21f9c2a"
      },
      "outputs": [],
      "source": []
    },
    {
      "cell_type": "markdown",
      "id": "81c7040a",
      "metadata": {
        "id": "81c7040a"
      },
      "source": [
        "### Splitting the Data"
      ]
    },
    {
      "cell_type": "code",
      "execution_count": null,
      "id": "17b8b409",
      "metadata": {
        "id": "17b8b409"
      },
      "outputs": [],
      "source": []
    },
    {
      "cell_type": "markdown",
      "id": "ced87b59",
      "metadata": {
        "id": "ced87b59"
      },
      "source": [
        "### Encoding the Data"
      ]
    },
    {
      "cell_type": "code",
      "execution_count": null,
      "id": "c89c5791",
      "metadata": {
        "id": "c89c5791"
      },
      "outputs": [],
      "source": []
    },
    {
      "cell_type": "markdown",
      "id": "50436b36",
      "metadata": {
        "id": "50436b36"
      },
      "source": [
        "# Creating a Logistic Regression Model"
      ]
    },
    {
      "cell_type": "code",
      "execution_count": null,
      "id": "7e88380e",
      "metadata": {
        "id": "7e88380e"
      },
      "outputs": [],
      "source": []
    },
    {
      "cell_type": "markdown",
      "id": "9d10db71",
      "metadata": {
        "id": "9d10db71"
      },
      "source": [
        "# Creating a K-Nearest Neighbors Model"
      ]
    },
    {
      "cell_type": "code",
      "execution_count": null,
      "id": "2352fb3f",
      "metadata": {
        "id": "2352fb3f"
      },
      "outputs": [],
      "source": []
    },
    {
      "cell_type": "markdown",
      "id": "81aa87a4",
      "metadata": {
        "id": "81aa87a4"
      },
      "source": [
        "# Creating a Support Vector Machines Model"
      ]
    },
    {
      "cell_type": "code",
      "execution_count": null,
      "id": "4a392bdb",
      "metadata": {
        "id": "4a392bdb"
      },
      "outputs": [],
      "source": []
    },
    {
      "cell_type": "markdown",
      "id": "172bf1f1",
      "metadata": {
        "id": "172bf1f1"
      },
      "source": [
        "# Creating a Decision Trees Model"
      ]
    },
    {
      "cell_type": "code",
      "execution_count": null,
      "id": "530fbc5c",
      "metadata": {
        "id": "530fbc5c"
      },
      "outputs": [],
      "source": []
    },
    {
      "cell_type": "markdown",
      "id": "9b95ab9c",
      "metadata": {
        "id": "9b95ab9c"
      },
      "source": [
        "# Creating a Random Forests Model"
      ]
    },
    {
      "cell_type": "code",
      "execution_count": null,
      "id": "f5119482",
      "metadata": {
        "id": "f5119482"
      },
      "outputs": [],
      "source": []
    }
  ],
  "metadata": {
    "kernelspec": {
      "display_name": "365engagement",
      "language": "python",
      "name": "365engagement"
    },
    "language_info": {
      "codemirror_mode": {
        "name": "ipython",
        "version": 3
      },
      "file_extension": ".py",
      "mimetype": "text/x-python",
      "name": "python",
      "nbconvert_exporter": "python",
      "pygments_lexer": "ipython3",
      "version": "3.8.8"
    },
    "colab": {
      "provenance": [],
      "include_colab_link": true
    }
  },
  "nbformat": 4,
  "nbformat_minor": 5
}